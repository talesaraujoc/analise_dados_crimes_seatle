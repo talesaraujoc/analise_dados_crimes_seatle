{
 "cells": [
  {
   "cell_type": "code",
   "execution_count": 1,
   "metadata": {},
   "outputs": [],
   "source": [
    "import pandas as pd"
   ]
  },
  {
   "cell_type": "code",
   "execution_count": 2,
   "metadata": {},
   "outputs": [],
   "source": [
    "df = pd.read_csv('C:/Users/tales/OneDrive/Documentos/GitHub/analise_dados_crimes_seatle/data/raw/SPD_Crime_Data__2008-Present_20250223.csv', sep=',')"
   ]
  },
  {
   "cell_type": "code",
   "execution_count": 66,
   "metadata": {},
   "outputs": [
    {
     "data": {
      "text/plain": [
       "Precinct\n",
       "N            377929\n",
       "W            312720\n",
       "E            187634\n",
       "S            170513\n",
       "SW           118191\n",
       "UNKNOWN        7470\n",
       "w                 5\n",
       "OOJ               1\n",
       "NORTHGATE         1\n",
       "Name: count, dtype: int64"
      ]
     },
     "execution_count": 66,
     "metadata": {},
     "output_type": "execute_result"
    }
   ],
   "source": [
    "df['Precinct'].value_counts()"
   ]
  },
  {
   "cell_type": "code",
   "execution_count": 57,
   "metadata": {},
   "outputs": [],
   "source": [
    "dff = df.copy() #preservando o bruto"
   ]
  },
  {
   "cell_type": "code",
   "execution_count": 58,
   "metadata": {},
   "outputs": [],
   "source": [
    "dff['Offense Start DateTime'] = pd.to_datetime(dff['Offense Start DateTime'])\n",
    "#dff['Offense End DateTime'] = pd.to_datetime(dff['Offense End DateTime'])\n",
    "dff['Report DateTime'] = pd.to_datetime(dff['Report DateTime'])"
   ]
  },
  {
   "cell_type": "code",
   "execution_count": 59,
   "metadata": {},
   "outputs": [],
   "source": [
    "dff['year'] = dff['Offense Start DateTime'].apply(lambda x: x.year)\n",
    "dff['day_of_week'] = dff['Offense Start DateTime'].apply(lambda x: x.day_of_week)"
   ]
  }
 ],
 "metadata": {
  "kernelspec": {
   "display_name": "venv_crimes_seatle",
   "language": "python",
   "name": "python3"
  },
  "language_info": {
   "codemirror_mode": {
    "name": "ipython",
    "version": 3
   },
   "file_extension": ".py",
   "mimetype": "text/x-python",
   "name": "python",
   "nbconvert_exporter": "python",
   "pygments_lexer": "ipython3",
   "version": "3.12.5"
  }
 },
 "nbformat": 4,
 "nbformat_minor": 2
}
