{
 "cells": [
  {
   "cell_type": "code",
   "execution_count": 1,
   "metadata": {},
   "outputs": [],
   "source": [
    "import pandas as pd\n",
    "\n",
    "import funcoes"
   ]
  },
  {
   "cell_type": "code",
   "execution_count": 2,
   "metadata": {},
   "outputs": [],
   "source": [
    "df = pd.read_csv('C:/Users/tales/OneDrive/Documentos/GitHub/analise_dados_crimes_seatle/data/raw/SPD_Crime_Data__2008-Present_20250223.csv', sep=',')\n",
    "dff = df.copy() #preservando o bruto"
   ]
  },
  {
   "cell_type": "code",
   "execution_count": 12,
   "metadata": {},
   "outputs": [],
   "source": [
    "dff = funcoes.colunas_lower(df)"
   ]
  },
  {
   "cell_type": "code",
   "execution_count": 4,
   "metadata": {},
   "outputs": [
    {
     "data": {
      "text/plain": [
       "Index(['report number', 'offense id', 'offense start datetime',\n",
       "       'offense end datetime', 'report datetime', 'group a b',\n",
       "       'crime against category', 'offense parent group', 'offense',\n",
       "       'offense code', 'precinct', 'sector', 'beat', 'mcpp',\n",
       "       '100 block address', 'longitude', 'latitude'],\n",
       "      dtype='object')"
      ]
     },
     "execution_count": 4,
     "metadata": {},
     "output_type": "execute_result"
    }
   ],
   "source": [
    "dff.columns"
   ]
  },
  {
   "cell_type": "code",
   "execution_count": null,
   "metadata": {},
   "outputs": [],
   "source": [
    "df = df.drop(425006)"
   ]
  },
  {
   "cell_type": "code",
   "execution_count": null,
   "metadata": {},
   "outputs": [],
   "source": [
    "dff['offense start datetime'] = funcoes.transformando_colunas_em_datetime(dff, 'offense start datetime')\n",
    "dff['offense end datetime'] = pd.to_datetime(dff['offense end datetime'])\n",
    "dff['report datetime'] = funcoes.transformando_colunas_em_datetime(dff, 'report datetime')"
   ]
  },
  {
   "cell_type": "code",
   "execution_count": 7,
   "metadata": {},
   "outputs": [
    {
     "data": {
      "text/plain": [
       "precinct\n",
       "N            377929\n",
       "W            312720\n",
       "E            187634\n",
       "S            170513\n",
       "SW           118191\n",
       "UNKNOWN        7470\n",
       "w                 5\n",
       "OOJ               1\n",
       "NORTHGATE         1\n",
       "Name: count, dtype: int64"
      ]
     },
     "execution_count": 7,
     "metadata": {},
     "output_type": "execute_result"
    }
   ],
   "source": [
    "dff['precinct'].value_counts()"
   ]
  }
 ],
 "metadata": {
  "kernelspec": {
   "display_name": "venv_crimes_seatle",
   "language": "python",
   "name": "python3"
  },
  "language_info": {
   "codemirror_mode": {
    "name": "ipython",
    "version": 3
   },
   "file_extension": ".py",
   "mimetype": "text/x-python",
   "name": "python",
   "nbconvert_exporter": "python",
   "pygments_lexer": "ipython3",
   "version": "3.12.5"
  }
 },
 "nbformat": 4,
 "nbformat_minor": 2
}
