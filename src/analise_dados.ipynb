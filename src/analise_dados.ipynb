{
 "cells": [
  {
   "cell_type": "code",
   "execution_count": 8,
   "metadata": {},
   "outputs": [],
   "source": [
    "from pathlib import Path\n",
    "import pandas as pd\n",
    "import matplotlib.pyplot as plt\n",
    "import plotly.express as px\n",
    "\n",
    "import funcoes"
   ]
  },
  {
   "cell_type": "code",
   "execution_count": 9,
   "metadata": {},
   "outputs": [],
   "source": [
    "parcial_path_absolute = Path.home() / 'OneDrive' / 'Documentos' / 'GitHub'\n",
    "parcial_path_relative = Path('analise_dados_crimes_seattle')\n",
    "full_path = parcial_path_absolute / parcial_path_relative\n",
    "\n",
    "absolute_path_data_raw = full_path / 'data' / 'raw'\n",
    "absolute_path_data_processed = full_path / 'data' / 'processed'\n",
    "\n",
    "path_data = absolute_path_data_processed / 'SPD_Crime_data_cleaned.csv'\n",
    "\n",
    "path_data_population = absolute_path_data_raw / 'population.xlsx'"
   ]
  },
  {
   "cell_type": "code",
   "execution_count": 10,
   "metadata": {},
   "outputs": [],
   "source": [
    "df_population = pd.read_excel(path_data_population)"
   ]
  },
  {
   "cell_type": "code",
   "execution_count": 11,
   "metadata": {},
   "outputs": [
    {
     "data": {
      "application/vnd.plotly.v1+json": {
       "config": {
        "plotlyServerURL": "https://plot.ly"
       },
       "data": [
        {
         "hovertemplate": "year=%{x}<br>population=%{y}<extra></extra>",
         "legendgroup": "",
         "line": {
          "color": "#636efa",
          "dash": "solid"
         },
         "marker": {
          "symbol": "circle"
         },
         "mode": "lines",
         "name": "",
         "orientation": "v",
         "showlegend": false,
         "type": "scatter",
         "x": {
          "bdata": "2AfZB9oH2wfcB90H3gffB+AH4QfiB+MH5AflB+YH5wc=",
          "dtype": "i2"
         },
         "xaxis": "x",
         "y": {
          "bdata": "DDUJALRvCQBeUQkAGoIJAI22CQDc+wkAsDwKAHeACgAf2AoALCILAOlVCwCLfgsAsr4LAN8yCwBObgsAhoULAA==",
          "dtype": "i4"
         },
         "yaxis": "y"
        }
       ],
       "layout": {
        "legend": {
         "tracegroupgap": 0
        },
        "margin": {
         "t": 60
        },
        "template": {
         "data": {
          "bar": [
           {
            "error_x": {
             "color": "#2a3f5f"
            },
            "error_y": {
             "color": "#2a3f5f"
            },
            "marker": {
             "line": {
              "color": "#E5ECF6",
              "width": 0.5
             },
             "pattern": {
              "fillmode": "overlay",
              "size": 10,
              "solidity": 0.2
             }
            },
            "type": "bar"
           }
          ],
          "barpolar": [
           {
            "marker": {
             "line": {
              "color": "#E5ECF6",
              "width": 0.5
             },
             "pattern": {
              "fillmode": "overlay",
              "size": 10,
              "solidity": 0.2
             }
            },
            "type": "barpolar"
           }
          ],
          "carpet": [
           {
            "aaxis": {
             "endlinecolor": "#2a3f5f",
             "gridcolor": "white",
             "linecolor": "white",
             "minorgridcolor": "white",
             "startlinecolor": "#2a3f5f"
            },
            "baxis": {
             "endlinecolor": "#2a3f5f",
             "gridcolor": "white",
             "linecolor": "white",
             "minorgridcolor": "white",
             "startlinecolor": "#2a3f5f"
            },
            "type": "carpet"
           }
          ],
          "choropleth": [
           {
            "colorbar": {
             "outlinewidth": 0,
             "ticks": ""
            },
            "type": "choropleth"
           }
          ],
          "contour": [
           {
            "colorbar": {
             "outlinewidth": 0,
             "ticks": ""
            },
            "colorscale": [
             [
              0,
              "#0d0887"
             ],
             [
              0.1111111111111111,
              "#46039f"
             ],
             [
              0.2222222222222222,
              "#7201a8"
             ],
             [
              0.3333333333333333,
              "#9c179e"
             ],
             [
              0.4444444444444444,
              "#bd3786"
             ],
             [
              0.5555555555555556,
              "#d8576b"
             ],
             [
              0.6666666666666666,
              "#ed7953"
             ],
             [
              0.7777777777777778,
              "#fb9f3a"
             ],
             [
              0.8888888888888888,
              "#fdca26"
             ],
             [
              1,
              "#f0f921"
             ]
            ],
            "type": "contour"
           }
          ],
          "contourcarpet": [
           {
            "colorbar": {
             "outlinewidth": 0,
             "ticks": ""
            },
            "type": "contourcarpet"
           }
          ],
          "heatmap": [
           {
            "colorbar": {
             "outlinewidth": 0,
             "ticks": ""
            },
            "colorscale": [
             [
              0,
              "#0d0887"
             ],
             [
              0.1111111111111111,
              "#46039f"
             ],
             [
              0.2222222222222222,
              "#7201a8"
             ],
             [
              0.3333333333333333,
              "#9c179e"
             ],
             [
              0.4444444444444444,
              "#bd3786"
             ],
             [
              0.5555555555555556,
              "#d8576b"
             ],
             [
              0.6666666666666666,
              "#ed7953"
             ],
             [
              0.7777777777777778,
              "#fb9f3a"
             ],
             [
              0.8888888888888888,
              "#fdca26"
             ],
             [
              1,
              "#f0f921"
             ]
            ],
            "type": "heatmap"
           }
          ],
          "histogram": [
           {
            "marker": {
             "pattern": {
              "fillmode": "overlay",
              "size": 10,
              "solidity": 0.2
             }
            },
            "type": "histogram"
           }
          ],
          "histogram2d": [
           {
            "colorbar": {
             "outlinewidth": 0,
             "ticks": ""
            },
            "colorscale": [
             [
              0,
              "#0d0887"
             ],
             [
              0.1111111111111111,
              "#46039f"
             ],
             [
              0.2222222222222222,
              "#7201a8"
             ],
             [
              0.3333333333333333,
              "#9c179e"
             ],
             [
              0.4444444444444444,
              "#bd3786"
             ],
             [
              0.5555555555555556,
              "#d8576b"
             ],
             [
              0.6666666666666666,
              "#ed7953"
             ],
             [
              0.7777777777777778,
              "#fb9f3a"
             ],
             [
              0.8888888888888888,
              "#fdca26"
             ],
             [
              1,
              "#f0f921"
             ]
            ],
            "type": "histogram2d"
           }
          ],
          "histogram2dcontour": [
           {
            "colorbar": {
             "outlinewidth": 0,
             "ticks": ""
            },
            "colorscale": [
             [
              0,
              "#0d0887"
             ],
             [
              0.1111111111111111,
              "#46039f"
             ],
             [
              0.2222222222222222,
              "#7201a8"
             ],
             [
              0.3333333333333333,
              "#9c179e"
             ],
             [
              0.4444444444444444,
              "#bd3786"
             ],
             [
              0.5555555555555556,
              "#d8576b"
             ],
             [
              0.6666666666666666,
              "#ed7953"
             ],
             [
              0.7777777777777778,
              "#fb9f3a"
             ],
             [
              0.8888888888888888,
              "#fdca26"
             ],
             [
              1,
              "#f0f921"
             ]
            ],
            "type": "histogram2dcontour"
           }
          ],
          "mesh3d": [
           {
            "colorbar": {
             "outlinewidth": 0,
             "ticks": ""
            },
            "type": "mesh3d"
           }
          ],
          "parcoords": [
           {
            "line": {
             "colorbar": {
              "outlinewidth": 0,
              "ticks": ""
             }
            },
            "type": "parcoords"
           }
          ],
          "pie": [
           {
            "automargin": true,
            "type": "pie"
           }
          ],
          "scatter": [
           {
            "fillpattern": {
             "fillmode": "overlay",
             "size": 10,
             "solidity": 0.2
            },
            "type": "scatter"
           }
          ],
          "scatter3d": [
           {
            "line": {
             "colorbar": {
              "outlinewidth": 0,
              "ticks": ""
             }
            },
            "marker": {
             "colorbar": {
              "outlinewidth": 0,
              "ticks": ""
             }
            },
            "type": "scatter3d"
           }
          ],
          "scattercarpet": [
           {
            "marker": {
             "colorbar": {
              "outlinewidth": 0,
              "ticks": ""
             }
            },
            "type": "scattercarpet"
           }
          ],
          "scattergeo": [
           {
            "marker": {
             "colorbar": {
              "outlinewidth": 0,
              "ticks": ""
             }
            },
            "type": "scattergeo"
           }
          ],
          "scattergl": [
           {
            "marker": {
             "colorbar": {
              "outlinewidth": 0,
              "ticks": ""
             }
            },
            "type": "scattergl"
           }
          ],
          "scattermap": [
           {
            "marker": {
             "colorbar": {
              "outlinewidth": 0,
              "ticks": ""
             }
            },
            "type": "scattermap"
           }
          ],
          "scattermapbox": [
           {
            "marker": {
             "colorbar": {
              "outlinewidth": 0,
              "ticks": ""
             }
            },
            "type": "scattermapbox"
           }
          ],
          "scatterpolar": [
           {
            "marker": {
             "colorbar": {
              "outlinewidth": 0,
              "ticks": ""
             }
            },
            "type": "scatterpolar"
           }
          ],
          "scatterpolargl": [
           {
            "marker": {
             "colorbar": {
              "outlinewidth": 0,
              "ticks": ""
             }
            },
            "type": "scatterpolargl"
           }
          ],
          "scatterternary": [
           {
            "marker": {
             "colorbar": {
              "outlinewidth": 0,
              "ticks": ""
             }
            },
            "type": "scatterternary"
           }
          ],
          "surface": [
           {
            "colorbar": {
             "outlinewidth": 0,
             "ticks": ""
            },
            "colorscale": [
             [
              0,
              "#0d0887"
             ],
             [
              0.1111111111111111,
              "#46039f"
             ],
             [
              0.2222222222222222,
              "#7201a8"
             ],
             [
              0.3333333333333333,
              "#9c179e"
             ],
             [
              0.4444444444444444,
              "#bd3786"
             ],
             [
              0.5555555555555556,
              "#d8576b"
             ],
             [
              0.6666666666666666,
              "#ed7953"
             ],
             [
              0.7777777777777778,
              "#fb9f3a"
             ],
             [
              0.8888888888888888,
              "#fdca26"
             ],
             [
              1,
              "#f0f921"
             ]
            ],
            "type": "surface"
           }
          ],
          "table": [
           {
            "cells": {
             "fill": {
              "color": "#EBF0F8"
             },
             "line": {
              "color": "white"
             }
            },
            "header": {
             "fill": {
              "color": "#C8D4E3"
             },
             "line": {
              "color": "white"
             }
            },
            "type": "table"
           }
          ]
         },
         "layout": {
          "annotationdefaults": {
           "arrowcolor": "#2a3f5f",
           "arrowhead": 0,
           "arrowwidth": 1
          },
          "autotypenumbers": "strict",
          "coloraxis": {
           "colorbar": {
            "outlinewidth": 0,
            "ticks": ""
           }
          },
          "colorscale": {
           "diverging": [
            [
             0,
             "#8e0152"
            ],
            [
             0.1,
             "#c51b7d"
            ],
            [
             0.2,
             "#de77ae"
            ],
            [
             0.3,
             "#f1b6da"
            ],
            [
             0.4,
             "#fde0ef"
            ],
            [
             0.5,
             "#f7f7f7"
            ],
            [
             0.6,
             "#e6f5d0"
            ],
            [
             0.7,
             "#b8e186"
            ],
            [
             0.8,
             "#7fbc41"
            ],
            [
             0.9,
             "#4d9221"
            ],
            [
             1,
             "#276419"
            ]
           ],
           "sequential": [
            [
             0,
             "#0d0887"
            ],
            [
             0.1111111111111111,
             "#46039f"
            ],
            [
             0.2222222222222222,
             "#7201a8"
            ],
            [
             0.3333333333333333,
             "#9c179e"
            ],
            [
             0.4444444444444444,
             "#bd3786"
            ],
            [
             0.5555555555555556,
             "#d8576b"
            ],
            [
             0.6666666666666666,
             "#ed7953"
            ],
            [
             0.7777777777777778,
             "#fb9f3a"
            ],
            [
             0.8888888888888888,
             "#fdca26"
            ],
            [
             1,
             "#f0f921"
            ]
           ],
           "sequentialminus": [
            [
             0,
             "#0d0887"
            ],
            [
             0.1111111111111111,
             "#46039f"
            ],
            [
             0.2222222222222222,
             "#7201a8"
            ],
            [
             0.3333333333333333,
             "#9c179e"
            ],
            [
             0.4444444444444444,
             "#bd3786"
            ],
            [
             0.5555555555555556,
             "#d8576b"
            ],
            [
             0.6666666666666666,
             "#ed7953"
            ],
            [
             0.7777777777777778,
             "#fb9f3a"
            ],
            [
             0.8888888888888888,
             "#fdca26"
            ],
            [
             1,
             "#f0f921"
            ]
           ]
          },
          "colorway": [
           "#636efa",
           "#EF553B",
           "#00cc96",
           "#ab63fa",
           "#FFA15A",
           "#19d3f3",
           "#FF6692",
           "#B6E880",
           "#FF97FF",
           "#FECB52"
          ],
          "font": {
           "color": "#2a3f5f"
          },
          "geo": {
           "bgcolor": "white",
           "lakecolor": "white",
           "landcolor": "#E5ECF6",
           "showlakes": true,
           "showland": true,
           "subunitcolor": "white"
          },
          "hoverlabel": {
           "align": "left"
          },
          "hovermode": "closest",
          "mapbox": {
           "style": "light"
          },
          "paper_bgcolor": "white",
          "plot_bgcolor": "#E5ECF6",
          "polar": {
           "angularaxis": {
            "gridcolor": "white",
            "linecolor": "white",
            "ticks": ""
           },
           "bgcolor": "#E5ECF6",
           "radialaxis": {
            "gridcolor": "white",
            "linecolor": "white",
            "ticks": ""
           }
          },
          "scene": {
           "xaxis": {
            "backgroundcolor": "#E5ECF6",
            "gridcolor": "white",
            "gridwidth": 2,
            "linecolor": "white",
            "showbackground": true,
            "ticks": "",
            "zerolinecolor": "white"
           },
           "yaxis": {
            "backgroundcolor": "#E5ECF6",
            "gridcolor": "white",
            "gridwidth": 2,
            "linecolor": "white",
            "showbackground": true,
            "ticks": "",
            "zerolinecolor": "white"
           },
           "zaxis": {
            "backgroundcolor": "#E5ECF6",
            "gridcolor": "white",
            "gridwidth": 2,
            "linecolor": "white",
            "showbackground": true,
            "ticks": "",
            "zerolinecolor": "white"
           }
          },
          "shapedefaults": {
           "line": {
            "color": "#2a3f5f"
           }
          },
          "ternary": {
           "aaxis": {
            "gridcolor": "white",
            "linecolor": "white",
            "ticks": ""
           },
           "baxis": {
            "gridcolor": "white",
            "linecolor": "white",
            "ticks": ""
           },
           "bgcolor": "#E5ECF6",
           "caxis": {
            "gridcolor": "white",
            "linecolor": "white",
            "ticks": ""
           }
          },
          "title": {
           "x": 0.05
          },
          "xaxis": {
           "automargin": true,
           "gridcolor": "white",
           "linecolor": "white",
           "ticks": "",
           "title": {
            "standoff": 15
           },
           "zerolinecolor": "white",
           "zerolinewidth": 2
          },
          "yaxis": {
           "automargin": true,
           "gridcolor": "white",
           "linecolor": "white",
           "ticks": "",
           "title": {
            "standoff": 15
           },
           "zerolinecolor": "white",
           "zerolinewidth": 2
          }
         }
        },
        "xaxis": {
         "anchor": "y",
         "domain": [
          0,
          1
         ],
         "title": {
          "text": "year"
         }
        },
        "yaxis": {
         "anchor": "x",
         "domain": [
          0,
          1
         ],
         "title": {
          "text": "population"
         }
        }
       }
      }
     },
     "metadata": {},
     "output_type": "display_data"
    }
   ],
   "source": [
    "px.line(df_population, x='year', y='population')"
   ]
  },
  {
   "cell_type": "code",
   "execution_count": 12,
   "metadata": {},
   "outputs": [],
   "source": [
    "# selecionar dados de 2017 até 2024 => tamanho da população com variação de aproximadamente 3,5%"
   ]
  },
  {
   "cell_type": "code",
   "execution_count": 13,
   "metadata": {},
   "outputs": [],
   "source": [
    "df = pd.read_csv(path_data)\n",
    "dff = df.copy()"
   ]
  },
  {
   "cell_type": "code",
   "execution_count": 14,
   "metadata": {},
   "outputs": [
    {
     "name": "stderr",
     "output_type": "stream",
     "text": [
      "c:\\Users\\tales\\OneDrive\\Documentos\\GitHub\\analise_dados_crimes_seattle\\src\\funcoes\\__init__.py:8: UserWarning:\n",
      "\n",
      "Could not infer format, so each element will be parsed individually, falling back to `dateutil`. To ensure parsing is consistent and as-expected, please specify a format.\n",
      "\n",
      "c:\\Users\\tales\\OneDrive\\Documentos\\GitHub\\analise_dados_crimes_seattle\\src\\funcoes\\__init__.py:8: UserWarning:\n",
      "\n",
      "Could not infer format, so each element will be parsed individually, falling back to `dateutil`. To ensure parsing is consistent and as-expected, please specify a format.\n",
      "\n"
     ]
    }
   ],
   "source": [
    "# 'report datetime'\n",
    "dff['report datetime'] = funcoes.transformando_colunas_em_datetime(dff, 'report datetime')\n",
    "\n",
    "# 'offense date\n",
    "dff['offense date'] = funcoes.transformando_colunas_em_datetime(dff, 'offense date')"
   ]
  },
  {
   "cell_type": "code",
   "execution_count": 15,
   "metadata": {},
   "outputs": [],
   "source": [
    "dff['hour'] = dff['offense date'].apply(lambda x: x.hour)\n",
    "dff['minute'] = dff['offense date'].apply(lambda x: x.minute)\n",
    "dff['day_of_week'] = dff['offense date'].apply(lambda x: x.day_of_week)\n",
    "dff['month'] = dff['offense date'].apply(lambda x: x.month)\n",
    "dff['year'] = dff['offense date'].apply(lambda x: x.year)\n",
    "\n",
    "# Definindo a função para categorizar os períodos do dia\n",
    "def categorizar_periodo(hora):\n",
    "    if 0 <= hora < 6:\n",
    "        return 'Madrugada (0-6h)'\n",
    "    elif 6 <= hora < 12:\n",
    "        return 'Manhã (6-12h)'\n",
    "    elif 12 <= hora < 18:\n",
    "        return 'Tarde (12-18h)'\n",
    "    else:\n",
    "        return 'Noite (18-24h)'\n",
    "\n",
    "\n",
    "# Aplicando a função à coluna 'hour'\n",
    "dff['periodo'] = dff['hour'].apply(categorizar_periodo)"
   ]
  },
  {
   "cell_type": "code",
   "execution_count": 16,
   "metadata": {},
   "outputs": [],
   "source": [
    "dff_eda = dff.copy()"
   ]
  },
  {
   "cell_type": "code",
   "execution_count": 17,
   "metadata": {},
   "outputs": [],
   "source": [
    "# filtrando ano\n",
    "dff_eda = dff_eda[dff_eda['year']>=2017]"
   ]
  },
  {
   "cell_type": "code",
   "execution_count": 18,
   "metadata": {},
   "outputs": [
    {
     "data": {
      "text/html": [
       "<div>\n",
       "<style scoped>\n",
       "    .dataframe tbody tr th:only-of-type {\n",
       "        vertical-align: middle;\n",
       "    }\n",
       "\n",
       "    .dataframe tbody tr th {\n",
       "        vertical-align: top;\n",
       "    }\n",
       "\n",
       "    .dataframe thead th {\n",
       "        text-align: right;\n",
       "    }\n",
       "</style>\n",
       "<table border=\"1\" class=\"dataframe\">\n",
       "  <thead>\n",
       "    <tr style=\"text-align: right;\">\n",
       "      <th></th>\n",
       "      <th>report number</th>\n",
       "      <th>report datetime</th>\n",
       "      <th>offense id</th>\n",
       "      <th>offense date</th>\n",
       "      <th>nibrs group ab</th>\n",
       "      <th>nibrs crime against category</th>\n",
       "      <th>offense sub category</th>\n",
       "      <th>shooting type group</th>\n",
       "      <th>beat</th>\n",
       "      <th>precinct</th>\n",
       "      <th>...</th>\n",
       "      <th>nibrs offense code description</th>\n",
       "      <th>nibrs_offense_code</th>\n",
       "      <th>longitude</th>\n",
       "      <th>latitude</th>\n",
       "      <th>hour</th>\n",
       "      <th>minute</th>\n",
       "      <th>day_of_week</th>\n",
       "      <th>month</th>\n",
       "      <th>year</th>\n",
       "      <th>periodo</th>\n",
       "    </tr>\n",
       "  </thead>\n",
       "  <tbody>\n",
       "    <tr>\n",
       "      <th>6</th>\n",
       "      <td>2022-018278</td>\n",
       "      <td>2022-01-22 21:12:40</td>\n",
       "      <td>31345377632</td>\n",
       "      <td>2022-01-22 19:20:00</td>\n",
       "      <td>B</td>\n",
       "      <td>SOCIETY</td>\n",
       "      <td>TRESPASS</td>\n",
       "      <td>-</td>\n",
       "      <td>Q3</td>\n",
       "      <td>West</td>\n",
       "      <td>...</td>\n",
       "      <td>Trespass of Real</td>\n",
       "      <td>90J</td>\n",
       "      <td>0.0</td>\n",
       "      <td>0.0</td>\n",
       "      <td>19</td>\n",
       "      <td>20</td>\n",
       "      <td>5</td>\n",
       "      <td>1</td>\n",
       "      <td>2022</td>\n",
       "      <td>Noite (18-24h)</td>\n",
       "    </tr>\n",
       "  </tbody>\n",
       "</table>\n",
       "<p>1 rows × 22 columns</p>\n",
       "</div>"
      ],
      "text/plain": [
       "  report number     report datetime   offense id        offense date  \\\n",
       "6   2022-018278 2022-01-22 21:12:40  31345377632 2022-01-22 19:20:00   \n",
       "\n",
       "  nibrs group ab nibrs crime against category offense sub category  \\\n",
       "6              B                      SOCIETY             TRESPASS   \n",
       "\n",
       "  shooting type group beat precinct  ... nibrs offense code description  \\\n",
       "6                   -   Q3     West  ...               Trespass of Real   \n",
       "\n",
       "  nibrs_offense_code longitude latitude  hour  minute  day_of_week  month  \\\n",
       "6                90J       0.0      0.0    19      20            5      1   \n",
       "\n",
       "   year         periodo  \n",
       "6  2022  Noite (18-24h)  \n",
       "\n",
       "[1 rows x 22 columns]"
      ]
     },
     "execution_count": 18,
     "metadata": {},
     "output_type": "execute_result"
    }
   ],
   "source": [
    "dff_eda.head(1)"
   ]
  },
  {
   "cell_type": "code",
   "execution_count": 20,
   "metadata": {},
   "outputs": [
    {
     "data": {
      "text/plain": [
       "Index(['report number', 'report datetime', 'offense id', 'offense date',\n",
       "       'nibrs group ab', 'nibrs crime against category',\n",
       "       'offense sub category', 'shooting type group', 'beat', 'precinct',\n",
       "       'sector', 'offense category', 'nibrs offense code description',\n",
       "       'nibrs_offense_code', 'longitude', 'latitude', 'hour', 'minute',\n",
       "       'day_of_week', 'month', 'year', 'periodo'],\n",
       "      dtype='object')"
      ]
     },
     "execution_count": 20,
     "metadata": {},
     "output_type": "execute_result"
    }
   ],
   "source": [
    "dff_eda.columns"
   ]
  },
  {
   "cell_type": "markdown",
   "metadata": {},
   "source": [
    "## Análise Exploratória (EDA)"
   ]
  },
  {
   "cell_type": "markdown",
   "metadata": {},
   "source": [
    "### Estatística Descritiva"
   ]
  },
  {
   "cell_type": "markdown",
   "metadata": {},
   "source": [
    "#### Frequência de tipos de crimes"
   ]
  },
  {
   "cell_type": "code",
   "execution_count": 30,
   "metadata": {},
   "outputs": [
    {
     "data": {
      "text/plain": [
       "nibrs group ab\n",
       "A    0.8656\n",
       "B    0.1344\n",
       "Name: proportion, dtype: float64"
      ]
     },
     "execution_count": 30,
     "metadata": {},
     "output_type": "execute_result"
    }
   ],
   "source": [
    "# contagem por nibrs group ab\n",
    "dff_eda['nibrs group ab'].value_counts(normalize=True)"
   ]
  },
  {
   "cell_type": "code",
   "execution_count": null,
   "metadata": {},
   "outputs": [],
   "source": [
    "# 86.56% | Grupo A: inclui crimes mais graves\n",
    "# 13.44% | Grupo B: inclui infrações de menor gravidade"
   ]
  },
  {
   "cell_type": "code",
   "execution_count": 45,
   "metadata": {},
   "outputs": [
    {
     "data": {
      "text/plain": [
       "nibrs crime against category\n",
       "PROPERTY    0.678358\n",
       "PERSON      0.161212\n",
       "SOCIETY     0.084304\n",
       "ANY         0.076125\n",
       "Name: proportion, dtype: float64"
      ]
     },
     "execution_count": 45,
     "metadata": {},
     "output_type": "execute_result"
    }
   ],
   "source": [
    "# contagem por nibrs crime against category\n",
    "dff_eda['nibrs crime against category'].value_counts(normalize=True)"
   ]
  },
  {
   "cell_type": "code",
   "execution_count": null,
   "metadata": {},
   "outputs": [],
   "source": [
    "# PROPERTY: Cerca de 67,8% dos registros são crimes contra a propriedade (por exemplo, furto, roubo, arrombamento, vandalismo, etc.).\n",
    "# PERSON: Aproximadamente 16,1% são crimes contra a pessoa (por exemplo, agressão, homicídio, estupro).\n",
    "# SOCIETY: Cerca de 8,4% são crimes contra a sociedade (por exemplo, porte ilegal de arma, drogas, prostituição, crimes ambientais).\n",
    "# ANY: Cerca de 7,6% foram classificados como “ANY” (pode ser um rótulo genérico ou casos em que o sistema não conseguiu classificar de forma mais específica).\n",
    "\n",
    "## INSIGHTS\n",
    "# Prioridades de policiamento: Se quase 70% dos registros são crimes contra propriedade, políticas de prevenção (iluminação, policiamento ostensivo em áreas de furtos/roubos, conscientização sobre proteção de veículos e imóveis) podem ser reforçadas.\n",
    "# Alocação de recursos: A parcela expressiva de crimes contra a pessoa (16%) demanda estratégias específicas (por exemplo, patrulhas em horários de maior incidência, programas de redução de violência doméstica, acompanhamento de reincidentes).\n",
    "# Políticas de controle social: Parte dos crimes contra a sociedade (8,4%) pode exigir abordagens diferentes, como combate ao tráfico de drogas, medidas educativas ou mudanças na legislação local."
   ]
  },
  {
   "cell_type": "code",
   "execution_count": 51,
   "metadata": {},
   "outputs": [
    {
     "data": {
      "text/plain": [
       "offense sub category\n",
       "LARCENY-THEFT                                            0.321019\n",
       "BURGLARY                                                 0.108687\n",
       "ASSAULT OFFENSES                                         0.096926\n",
       "PROPERTY OFFENSES (INCLUDES STOLEN, DESTRUCTION)         0.093282\n",
       "ALL OTHER                                                0.076125\n",
       "MOTOR VEHICLE THEFT                                      0.071675\n",
       "EXTORTION/FRAUD/FORGERY/BRIBERY (INCLUDES BAD CHECKS)    0.061220\n",
       "AGGRAVATED ASSAULT                                       0.037592\n",
       "TRESPASS                                                 0.034054\n",
       "ROBBERY                                                  0.020498\n",
       "Name: proportion, dtype: float64"
      ]
     },
     "execution_count": 51,
     "metadata": {},
     "output_type": "execute_result"
    }
   ],
   "source": [
    "# contagem por nibrs crime against category\n",
    "dff_eda['offense sub category'].value_counts(normalize=True).head(10)"
   ]
  },
  {
   "cell_type": "code",
   "execution_count": null,
   "metadata": {},
   "outputs": [],
   "source": [
    "# ~43% dos crimes se dividem em LARCENY-THEFT (32.1%) e BURGLARY (10.8%)\n",
    "\n",
    "# LARCENY-THEFT: corresponde a quase 1/3 de todos os registros. Isso reforça a ideia de que crimes contra a propriedade são comuns no dataset. \n",
    "## Inclui crimes de furto, geralmente sem uso de força ou violência direta contra a vítima (por exemplo, furtos em lojas, roubos de objetos em veículos destrancados, etc.).\n",
    "\n",
    "# BURGLARY: corresponde a quase 11% dos casos, envolvendo invasão de imóveis (residências, estabelecimentos) para cometer furto ou outro delito. Também se enquadra em crimes contra a propriedade"
   ]
  },
  {
   "cell_type": "markdown",
   "metadata": {},
   "source": [
    "#### Distribuição por dia da semana, mês, hora do dia"
   ]
  },
  {
   "cell_type": "code",
   "execution_count": 58,
   "metadata": {},
   "outputs": [
    {
     "data": {
      "text/plain": [
       "<Axes: >"
      ]
     },
     "execution_count": 58,
     "metadata": {},
     "output_type": "execute_result"
    },
    {
     "data": {
      "image/png": "[encoded data removed]",
      "text/plain": [
       "<Figure size 640x480 with 1 Axes>"
      ]
     },
     "metadata": {},
     "output_type": "display_data"
    }
   ],
   "source": [
    "# dia da semana\n",
    "dff_eda['day_of_week'].hist()"
   ]
  },
  {
   "cell_type": "code",
   "execution_count": null,
   "metadata": {},
   "outputs": [
    {
     "data": {
      "text/plain": [
       "month\n",
       "5     0.091623\n",
       "1     0.091154\n",
       "8     0.085720\n",
       "10    0.085693\n",
       "7     0.085192\n",
       "3     0.083437\n",
       "9     0.082280\n",
       "11    0.079608\n",
       "12    0.079489\n",
       "4     0.079483\n",
       "2     0.078496\n",
       "6     0.077826\n",
       "Name: proportion, dtype: float64"
      ]
     },
     "execution_count": 67,
     "metadata": {},
     "output_type": "execute_result"
    }
   ],
   "source": [
    "# mês\n",
    "dff_eda['month'].value_counts(normalize=True)"
   ]
  },
  {
   "cell_type": "code",
   "execution_count": 71,
   "metadata": {},
   "outputs": [
    {
     "data": {
      "text/plain": [
       "hour\n",
       "0     0.101235\n",
       "12    0.055479\n",
       "17    0.053692\n",
       "18    0.053014\n",
       "20    0.051946\n",
       "16    0.048889\n",
       "19    0.048584\n",
       "22    0.048151\n",
       "21    0.047651\n",
       "15    0.046900\n",
       "14    0.043049\n",
       "13    0.041979\n",
       "23    0.041541\n",
       "11    0.037936\n",
       "10    0.035988\n",
       "8     0.034725\n",
       "1     0.033999\n",
       "9     0.033914\n",
       "2     0.028159\n",
       "7     0.025053\n",
       "3     0.023769\n",
       "4     0.022619\n",
       "6     0.021423\n",
       "5     0.020306\n",
       "Name: proportion, dtype: float64"
      ]
     },
     "execution_count": 71,
     "metadata": {},
     "output_type": "execute_result"
    }
   ],
   "source": [
    "# hora do dia\n",
    "dff_eda['hour'].value_counts(normalize=True)"
   ]
  },
  {
   "cell_type": "code",
   "execution_count": 72,
   "metadata": {},
   "outputs": [],
   "source": [
    "# identificação de outliers, possíveis erros em dados\n",
    "dff_eda = dff_eda[(dff_eda['hour']!=0) & (dff_eda['minute']!=0)]"
   ]
  },
  {
   "cell_type": "code",
   "execution_count": 73,
   "metadata": {},
   "outputs": [
    {
     "data": {
      "text/plain": [
       "hour\n",
       "16    0.057051\n",
       "17    0.056234\n",
       "15    0.055412\n",
       "18    0.054106\n",
       "20    0.053950\n",
       "12    0.053522\n",
       "14    0.053028\n",
       "13    0.052656\n",
       "19    0.052418\n",
       "21    0.050509\n",
       "11    0.047308\n",
       "22    0.047102\n",
       "23    0.044568\n",
       "10    0.041535\n",
       "9     0.038157\n",
       "1     0.037719\n",
       "8     0.036287\n",
       "2     0.032586\n",
       "7     0.030202\n",
       "4     0.027885\n",
       "3     0.027495\n",
       "6     0.025280\n",
       "5     0.024991\n",
       "Name: proportion, dtype: float64"
      ]
     },
     "execution_count": 73,
     "metadata": {},
     "output_type": "execute_result"
    }
   ],
   "source": [
    "dff_eda['hour'].value_counts(normalize=True)"
   ]
  },
  {
   "cell_type": "markdown",
   "metadata": {},
   "source": [
    "#### Tendências de aumento ou diminuição ao longo do tempo."
   ]
  },
  {
   "cell_type": "code",
   "execution_count": null,
   "metadata": {},
   "outputs": [],
   "source": []
  },
  {
   "cell_type": "markdown",
   "metadata": {},
   "source": [
    "### Visualizações"
   ]
  },
  {
   "cell_type": "markdown",
   "metadata": {},
   "source": [
    "#### Gráficos de linhas para evoluções temporais"
   ]
  },
  {
   "cell_type": "code",
   "execution_count": null,
   "metadata": {},
   "outputs": [],
   "source": []
  },
  {
   "cell_type": "markdown",
   "metadata": {},
   "source": [
    "#### Gráficos de barras para comparar tipos de crimes mais frequentes."
   ]
  },
  {
   "cell_type": "code",
   "execution_count": null,
   "metadata": {},
   "outputs": [],
   "source": []
  },
  {
   "cell_type": "markdown",
   "metadata": {},
   "source": [
    "#### Mapas de calor (heatmaps) ou choropleth maps para visualizar concentração de crimes por região."
   ]
  },
  {
   "cell_type": "code",
   "execution_count": null,
   "metadata": {},
   "outputs": [],
   "source": []
  },
  {
   "cell_type": "markdown",
   "metadata": {},
   "source": [
    "### Identificação de padrões e correlações"
   ]
  },
  {
   "cell_type": "code",
   "execution_count": null,
   "metadata": {},
   "outputs": [],
   "source": []
  },
  {
   "cell_type": "markdown",
   "metadata": {},
   "source": [
    "#### Correlacionar variáveis como hora do dia e tipo de crime."
   ]
  },
  {
   "cell_type": "code",
   "execution_count": null,
   "metadata": {},
   "outputs": [],
   "source": []
  },
  {
   "cell_type": "markdown",
   "metadata": {},
   "source": [
    "#### verificar a influência de fatores externos (clima, eventos da cidade, período de férias escolares etc.)."
   ]
  },
  {
   "cell_type": "code",
   "execution_count": null,
   "metadata": {},
   "outputs": [],
   "source": []
  },
  {
   "cell_type": "markdown",
   "metadata": {},
   "source": [
    "### Formulação de hipóteses"
   ]
  },
  {
   "cell_type": "markdown",
   "metadata": {},
   "source": [
    "#### “Crimes de furto de veículos aumentam em determinadas regiões durante a madrugada?”."
   ]
  },
  {
   "cell_type": "code",
   "execution_count": null,
   "metadata": {},
   "outputs": [],
   "source": []
  },
  {
   "cell_type": "markdown",
   "metadata": {},
   "source": [
    "#### “Há correlação entre índices de desemprego ou renda e certos tipos de crimes?”."
   ]
  },
  {
   "cell_type": "code",
   "execution_count": null,
   "metadata": {},
   "outputs": [],
   "source": []
  },
  {
   "cell_type": "code",
   "execution_count": 24,
   "metadata": {},
   "outputs": [
    {
     "data": {
      "image/png": "[encoded data removed]",
      "text/plain": [
       "<Figure size 800x600 with 1 Axes>"
      ]
     },
     "metadata": {},
     "output_type": "display_data"
    }
   ],
   "source": [
    "# Contagem de crimes por período\n",
    "crime_por_periodo = dff_eda['periodo'].value_counts().sort_index()\n",
    "\n",
    "\n",
    "\n",
    "# Criando gráfico para visualizar os períodos de maior risco\n",
    "plt.figure(figsize=(8, 6))\n",
    "crime_por_periodo.plot(kind='bar', color=['blue', 'green', 'orange', 'red'])\n",
    "plt.xlabel(\"Período do Dia\")\n",
    "plt.ylabel(\"Número de Crimes\")\n",
    "plt.title(\"Distribuição de Crimes por Período do Dia\")\n",
    "plt.xticks(rotation=45)\n",
    "plt.grid(axis='y', linestyle='--', alpha=0.7)\n",
    "plt.show()\n"
   ]
  },
  {
   "cell_type": "code",
   "execution_count": null,
   "metadata": {},
   "outputs": [],
   "source": []
  },
  {
   "cell_type": "code",
   "execution_count": 49,
   "metadata": {},
   "outputs": [
    {
     "data": {
      "image/png": "[encoded data removed]",
      "text/plain": [
       "<Figure size 800x600 with 1 Axes>"
      ]
     },
     "metadata": {},
     "output_type": "display_data"
    }
   ],
   "source": [
    "# Contagem de crimes por período\n",
    "crime_por_periodo = test['periodo'].value_counts().sort_index()\n",
    "\n",
    "\n",
    "\n",
    "# Criando gráfico para visualizar os períodos de maior risco\n",
    "plt.figure(figsize=(8, 6))\n",
    "crime_por_periodo.plot(kind='bar', color=['blue', 'green', 'orange', 'red'])\n",
    "plt.xlabel(\"Período do Dia\")\n",
    "plt.ylabel(\"Número de Crimes\")\n",
    "plt.title(\"Distribuição de Crimes por Período do Dia\")\n",
    "plt.xticks(rotation=45)\n",
    "plt.grid(axis='y', linestyle='--', alpha=0.7)\n",
    "plt.show()\n"
   ]
  }
 ],
 "metadata": {
  "kernelspec": {
   "display_name": "venv_crimes_seatle",
   "language": "python",
   "name": "python3"
  },
  "language_info": {
   "codemirror_mode": {
    "name": "ipython",
    "version": 3
   },
   "file_extension": ".py",
   "mimetype": "text/x-python",
   "name": "python",
   "nbconvert_exporter": "python",
   "pygments_lexer": "ipython3",
   "version": "3.12.5"
  }
 },
 "nbformat": 4,
 "nbformat_minor": 2
}
