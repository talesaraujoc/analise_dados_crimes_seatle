{
 "cells": [
  {
   "cell_type": "code",
   "execution_count": 7,
   "metadata": {},
   "outputs": [
    {
     "name": "stderr",
     "output_type": "stream",
     "text": [
      "WARNING:root:Requests made without an app_token will be subject to strict throttling limits.\n"
     ]
    }
   ],
   "source": [
    "#!/usr/bin/env python\n",
    "\n",
    "# make sure to install these packages before running:\n",
    "# pip install pandas\n",
    "# pip install sodapy\n",
    "\n",
    "import pandas as pd\n",
    "from sodapy import Socrata\n",
    "\n",
    "# Unauthenticated client only works with public data sets. Note 'None'\n",
    "# in place of application token, and no username or password:\n",
    "client = Socrata(\"data.seattle.gov\", None)\n",
    "\n",
    "# Example authenticated client (needed for non-public datasets):\n",
    "# client = Socrata(data.seattle.gov,\n",
    "#                  MyAppToken,\n",
    "#                  username=\"user@example.com\",\n",
    "#                  password=\"AFakePassword\")\n",
    "\n",
    "# First 2000 results, returned as JSON from API / converted to Python list of\n",
    "# dictionaries by sodapy.\n",
    "results = client.get(\"tazs-3rd5\", limit=10000)\n",
    "\n",
    "# Convert to pandas DataFrame\n",
    "results_df = pd.DataFrame.from_records(results)"
   ]
  },
  {
   "cell_type": "code",
   "execution_count": 11,
   "metadata": {},
   "outputs": [
    {
     "data": {
      "text/html": [
       "<div>\n",
       "<style scoped>\n",
       "    .dataframe tbody tr th:only-of-type {\n",
       "        vertical-align: middle;\n",
       "    }\n",
       "\n",
       "    .dataframe tbody tr th {\n",
       "        vertical-align: top;\n",
       "    }\n",
       "\n",
       "    .dataframe thead th {\n",
       "        text-align: right;\n",
       "    }\n",
       "</style>\n",
       "<table border=\"1\" class=\"dataframe\">\n",
       "  <thead>\n",
       "    <tr style=\"text-align: right;\">\n",
       "      <th></th>\n",
       "      <th>report_number</th>\n",
       "      <th>offense_id</th>\n",
       "      <th>offense_start_datetime</th>\n",
       "      <th>offense_end_datetime</th>\n",
       "      <th>report_datetime</th>\n",
       "      <th>group_a_b</th>\n",
       "      <th>crime_against_category</th>\n",
       "      <th>offense_parent_group</th>\n",
       "      <th>offense</th>\n",
       "      <th>offense_code</th>\n",
       "      <th>precinct</th>\n",
       "      <th>sector</th>\n",
       "      <th>beat</th>\n",
       "      <th>mcpp</th>\n",
       "      <th>_100_block_address</th>\n",
       "      <th>longitude</th>\n",
       "      <th>latitude</th>\n",
       "    </tr>\n",
       "  </thead>\n",
       "  <tbody>\n",
       "    <tr>\n",
       "      <th>0</th>\n",
       "      <td>2020-044452</td>\n",
       "      <td>12605598696</td>\n",
       "      <td>2020-02-03T08:00:00.000</td>\n",
       "      <td>2020-02-04T08:00:00.000</td>\n",
       "      <td>2020-02-05T10:06:28.000</td>\n",
       "      <td>A</td>\n",
       "      <td>PROPERTY</td>\n",
       "      <td>LARCENY-THEFT</td>\n",
       "      <td>Theft of Motor Vehicle Parts or Accessories</td>\n",
       "      <td>23G</td>\n",
       "      <td>N</td>\n",
       "      <td>J</td>\n",
       "      <td>J3</td>\n",
       "      <td>ROOSEVELT/RAVENNA</td>\n",
       "      <td>63XX BLOCK OF 5TH AVE NE</td>\n",
       "      <td>-122.323399063</td>\n",
       "      <td>47.675117890</td>\n",
       "    </tr>\n",
       "  </tbody>\n",
       "</table>\n",
       "</div>"
      ],
      "text/plain": [
       "  report_number   offense_id   offense_start_datetime  \\\n",
       "0   2020-044452  12605598696  2020-02-03T08:00:00.000   \n",
       "\n",
       "      offense_end_datetime          report_datetime group_a_b  \\\n",
       "0  2020-02-04T08:00:00.000  2020-02-05T10:06:28.000         A   \n",
       "\n",
       "  crime_against_category offense_parent_group  \\\n",
       "0               PROPERTY        LARCENY-THEFT   \n",
       "\n",
       "                                       offense offense_code precinct sector  \\\n",
       "0  Theft of Motor Vehicle Parts or Accessories          23G        N      J   \n",
       "\n",
       "  beat               mcpp        _100_block_address       longitude  \\\n",
       "0   J3  ROOSEVELT/RAVENNA  63XX BLOCK OF 5TH AVE NE  -122.323399063   \n",
       "\n",
       "       latitude  \n",
       "0  47.675117890  "
      ]
     },
     "execution_count": 11,
     "metadata": {},
     "output_type": "execute_result"
    }
   ],
   "source": [
    "results_df.head(1)"
   ]
  },
  {
   "cell_type": "code",
   "execution_count": 14,
   "metadata": {},
   "outputs": [
    {
     "data": {
      "text/plain": [
       "offense_parent_group\n",
       "LARCENY-THEFT                               5893\n",
       "DESTRUCTION/DAMAGE/VANDALISM OF PROPERTY    1112\n",
       "MOTOR VEHICLE THEFT                          909\n",
       "FRAUD OFFENSES                               772\n",
       "DRIVING UNDER THE INFLUENCE                  353\n",
       "ROBBERY                                      271\n",
       "DRUG/NARCOTIC OFFENSES                       142\n",
       "COUNTERFEITING/FORGERY                       103\n",
       "WEAPON LAW VIOLATIONS                         98\n",
       "SEX OFFENSES                                  96\n",
       "STOLEN PROPERTY OFFENSES                      85\n",
       "PROSTITUTION OFFENSES                         42\n",
       "KIDNAPPING/ABDUCTION                          20\n",
       "ARSON                                         20\n",
       "BAD CHECKS                                    19\n",
       "EXTORTION/BLACKMAIL                           19\n",
       "EMBEZZLEMENT                                  12\n",
       "FAMILY OFFENSES, NONVIOLENT                   10\n",
       "PORNOGRAPHY/OBSCENE MATERIAL                   7\n",
       "HUMAN TRAFFICKING                              5\n",
       "LIQUOR LAW VIOLATIONS                          4\n",
       "CURFEW/LOITERING/VAGRANCY VIOLATIONS           3\n",
       "ANIMAL CRUELTY                                 3\n",
       "PEEPING TOM                                    2\n",
       "Name: count, dtype: int64"
      ]
     },
     "execution_count": 14,
     "metadata": {},
     "output_type": "execute_result"
    }
   ],
   "source": [
    "results_df['offense_parent_group'].value_counts()"
   ]
  },
  {
   "cell_type": "code",
   "execution_count": 12,
   "metadata": {},
   "outputs": [
    {
     "data": {
      "text/plain": [
       "group_a_b\n",
       "A    9609\n",
       "B     391\n",
       "Name: count, dtype: int64"
      ]
     },
     "execution_count": 12,
     "metadata": {},
     "output_type": "execute_result"
    }
   ],
   "source": [
    "results_df['group_a_b'].value_counts()"
   ]
  },
  {
   "cell_type": "code",
   "execution_count": 9,
   "metadata": {},
   "outputs": [
    {
     "data": {
      "text/plain": [
       "crime_against_category\n",
       "PROPERTY    9215\n",
       "SOCIETY      664\n",
       "PERSON       121\n",
       "Name: count, dtype: int64"
      ]
     },
     "execution_count": 9,
     "metadata": {},
     "output_type": "execute_result"
    }
   ],
   "source": [
    "results_df['crime_against_category'].value_counts()"
   ]
  }
 ],
 "metadata": {
  "kernelspec": {
   "display_name": "venv_crimes_seatle",
   "language": "python",
   "name": "python3"
  },
  "language_info": {
   "codemirror_mode": {
    "name": "ipython",
    "version": 3
   },
   "file_extension": ".py",
   "mimetype": "text/x-python",
   "name": "python",
   "nbconvert_exporter": "python",
   "pygments_lexer": "ipython3",
   "version": "3.12.5"
  }
 },
 "nbformat": 4,
 "nbformat_minor": 2
}
